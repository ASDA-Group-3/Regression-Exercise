{
 "cells": [
  {
   "cell_type": "markdown",
   "id": "f44d58df",
   "metadata": {},
   "source": [
    "# Looking at individual independet variables"
   ]
  },
  {
   "cell_type": "markdown",
   "id": "c3b1f4da",
   "metadata": {},
   "source": [
    "Importing the python libaries we neeed for the code"
   ]
  },
  {
   "cell_type": "code",
   "execution_count": 1,
   "id": "967cce29",
   "metadata": {},
   "outputs": [],
   "source": [
    "import numpy as np\n",
    "import pandas as pd\n",
    "import matplotlib.pyplot as plt\n",
    "import seaborn as sns\n",
    "from sklearn.model_selection import train_test_split\n",
    "from sklearn.linear_model import LinearRegression\n",
    "from sklearn.metrics import mean_squared_error, mean_absolute_error, r2_score"
   ]
  },
  {
   "cell_type": "markdown",
   "id": "43c8db4f",
   "metadata": {},
   "source": [
    "## 1. Load and Explore Dataset\n"
   ]
  },
  {
   "cell_type": "code",
   "execution_count": 2,
   "id": "20569230",
   "metadata": {},
   "outputs": [
    {
     "data": {
      "text/html": [
       "<div>\n",
       "<style scoped>\n",
       "    .dataframe tbody tr th:only-of-type {\n",
       "        vertical-align: middle;\n",
       "    }\n",
       "\n",
       "    .dataframe tbody tr th {\n",
       "        vertical-align: top;\n",
       "    }\n",
       "\n",
       "    .dataframe thead th {\n",
       "        text-align: right;\n",
       "    }\n",
       "</style>\n",
       "<table border=\"1\" class=\"dataframe\">\n",
       "  <thead>\n",
       "    <tr style=\"text-align: right;\">\n",
       "      <th></th>\n",
       "      <th>carat</th>\n",
       "      <th>cut</th>\n",
       "      <th>color</th>\n",
       "      <th>clarity</th>\n",
       "      <th>depth</th>\n",
       "      <th>table</th>\n",
       "      <th>price</th>\n",
       "      <th>x</th>\n",
       "      <th>y</th>\n",
       "      <th>z</th>\n",
       "    </tr>\n",
       "  </thead>\n",
       "  <tbody>\n",
       "    <tr>\n",
       "      <th>0</th>\n",
       "      <td>0.23</td>\n",
       "      <td>Ideal</td>\n",
       "      <td>E</td>\n",
       "      <td>SI2</td>\n",
       "      <td>61.5</td>\n",
       "      <td>55.0</td>\n",
       "      <td>326</td>\n",
       "      <td>3.95</td>\n",
       "      <td>3.98</td>\n",
       "      <td>2.43</td>\n",
       "    </tr>\n",
       "    <tr>\n",
       "      <th>1</th>\n",
       "      <td>0.21</td>\n",
       "      <td>Premium</td>\n",
       "      <td>E</td>\n",
       "      <td>SI1</td>\n",
       "      <td>59.8</td>\n",
       "      <td>61.0</td>\n",
       "      <td>326</td>\n",
       "      <td>3.89</td>\n",
       "      <td>3.84</td>\n",
       "      <td>2.31</td>\n",
       "    </tr>\n",
       "    <tr>\n",
       "      <th>2</th>\n",
       "      <td>0.23</td>\n",
       "      <td>Good</td>\n",
       "      <td>E</td>\n",
       "      <td>VS1</td>\n",
       "      <td>56.9</td>\n",
       "      <td>65.0</td>\n",
       "      <td>327</td>\n",
       "      <td>4.05</td>\n",
       "      <td>4.07</td>\n",
       "      <td>2.31</td>\n",
       "    </tr>\n",
       "    <tr>\n",
       "      <th>3</th>\n",
       "      <td>0.29</td>\n",
       "      <td>Premium</td>\n",
       "      <td>I</td>\n",
       "      <td>VS2</td>\n",
       "      <td>62.4</td>\n",
       "      <td>58.0</td>\n",
       "      <td>334</td>\n",
       "      <td>4.20</td>\n",
       "      <td>4.23</td>\n",
       "      <td>2.63</td>\n",
       "    </tr>\n",
       "    <tr>\n",
       "      <th>4</th>\n",
       "      <td>0.31</td>\n",
       "      <td>Good</td>\n",
       "      <td>J</td>\n",
       "      <td>SI2</td>\n",
       "      <td>63.3</td>\n",
       "      <td>58.0</td>\n",
       "      <td>335</td>\n",
       "      <td>4.34</td>\n",
       "      <td>4.35</td>\n",
       "      <td>2.75</td>\n",
       "    </tr>\n",
       "  </tbody>\n",
       "</table>\n",
       "</div>"
      ],
      "text/plain": [
       "   carat      cut color clarity  depth  table  price     x     y     z\n",
       "0   0.23    Ideal     E     SI2   61.5   55.0    326  3.95  3.98  2.43\n",
       "1   0.21  Premium     E     SI1   59.8   61.0    326  3.89  3.84  2.31\n",
       "2   0.23     Good     E     VS1   56.9   65.0    327  4.05  4.07  2.31\n",
       "3   0.29  Premium     I     VS2   62.4   58.0    334  4.20  4.23  2.63\n",
       "4   0.31     Good     J     SI2   63.3   58.0    335  4.34  4.35  2.75"
      ]
     },
     "execution_count": 2,
     "metadata": {},
     "output_type": "execute_result"
    }
   ],
   "source": [
    "df=sns.load_dataset('diamonds')\n",
    "df.head()"
   ]
  },
  {
   "cell_type": "markdown",
   "id": "994d8d3a",
   "metadata": {},
   "source": [
    "## Relationship between Carat and Price"
   ]
  },
  {
   "cell_type": "markdown",
   "id": "549f0ef3",
   "metadata": {},
   "source": [
    "Predicting the carat weight of a diamond based on its price."
   ]
  },
  {
   "cell_type": "markdown",
   "id": "c7b09c86",
   "metadata": {},
   "source": [
    "### Train-Test Split\n"
   ]
  },
  {
   "cell_type": "code",
   "execution_count": 3,
   "id": "a3d44326",
   "metadata": {},
   "outputs": [],
   "source": [
    "X = df[['price']]\n",
    "y = df['carat']\n",
    "X_train, X_test, y_train, y_test = train_test_split(X, y, test_size=0.2, random_state=42)"
   ]
  },
  {
   "cell_type": "markdown",
   "id": "b8196528",
   "metadata": {},
   "source": [
    "### Model Training and Prediction\n"
   ]
  },
  {
   "cell_type": "code",
   "execution_count": 4,
   "id": "44b06576",
   "metadata": {},
   "outputs": [],
   "source": [
    "model = LinearRegression()\n",
    "model.fit(X_train, y_train)\n",
    "y_pred = model.predict(X_test)"
   ]
  },
  {
   "cell_type": "markdown",
   "id": "6de01ef8",
   "metadata": {},
   "source": [
    "### Evaluation Metrics"
   ]
  },
  {
   "cell_type": "code",
   "execution_count": 5,
   "id": "4f5b68b1",
   "metadata": {},
   "outputs": [
    {
     "name": "stdout",
     "output_type": "stream",
     "text": [
      "Mean Absolute Error (MAE): 0.13591968135075944\n",
      "Mean Squared Error (MSE): 0.034320744179772184\n",
      "Root Mean Squared Error (RMSE): 0.18525858733071507\n",
      "R-squared (R²): 0.8489555129925128\n"
     ]
    }
   ],
   "source": [
    "mse = mean_squared_error(y_test, y_pred)\n",
    "rmse = np.sqrt(mse)  \n",
    "mae = mean_absolute_error(y_test, y_pred)\n",
    "r2 = r2_score(y_test, y_pred)\n",
    "print(f\"Mean Absolute Error (MAE): {mae}\")\n",
    "print(f\"Mean Squared Error (MSE): {mse}\")\n",
    "print(f\"Root Mean Squared Error (RMSE): {rmse}\")\n",
    "print(f\"R-squared (R²): {r2}\")"
   ]
  },
  {
   "cell_type": "markdown",
   "id": "0eb9a369",
   "metadata": {},
   "source": [
    "### Observations\n",
    "\n",
    "- MAE (0.136): On average, the predicted carat weight is off by 0.136 carats.\n",
    "- MSE (0.034): The squared error is small, meaning there are not many large deviations.\n",
    "- RMSE (0.185): The typical error in predictions is about 0.185 carats, a small value considering the scale of carat weights.\n",
    "- R² (0.849): The model explains 84.9% of the variance in carat weight based on price, showing a strong linear relationship between price and carat weight.\n",
    "- Conclusion: This is a strong model with small prediction errors and a high R²."
   ]
  },
  {
   "cell_type": "markdown",
   "id": "ef593632",
   "metadata": {},
   "source": [
    "### Visualization\n"
   ]
  },
  {
   "cell_type": "code",
   "execution_count": 6,
   "id": "d63c19f6",
   "metadata": {},
   "outputs": [
    {
     "data": {
      "image/png": "[encoded data removed]",
      "text/plain": [
       "<Figure size 432x288 with 1 Axes>"
      ]
     },
     "metadata": {
      "needs_background": "light"
     },
     "output_type": "display_data"
    }
   ],
   "source": [
    "plt.scatter(X, y, color='blue', alpha=0.5, label='Actual Data')\n",
    "plt.plot(X_test, model.predict(X_test), color='red', label='Regression Line')\n",
    "plt.xlabel('Price')\n",
    "plt.ylabel('Carat')\n",
    "plt.legend()\n",
    "plt.show()"
   ]
  },
  {
   "cell_type": "markdown",
   "id": "f732920f",
   "metadata": {},
   "source": [
    "## Relationship between Price and Depth"
   ]
  },
  {
   "cell_type": "markdown",
   "id": "dfc31bd5",
   "metadata": {},
   "source": [
    "Predicting the depth of a diamond based on its price."
   ]
  },
  {
   "cell_type": "markdown",
   "id": "b22ba4dc",
   "metadata": {},
   "source": [
    "### Train-Test Split\n"
   ]
  },
  {
   "cell_type": "code",
   "execution_count": 7,
   "id": "4e03654e",
   "metadata": {},
   "outputs": [],
   "source": [
    "X = df[['price']]\n",
    "y = df['depth']\n",
    "X_train, X_test, y_train, y_test = train_test_split(X, y, test_size=0.2, random_state=42)"
   ]
  },
  {
   "cell_type": "markdown",
   "id": "5686fa04",
   "metadata": {},
   "source": [
    "### Model Training and Prediction\n"
   ]
  },
  {
   "cell_type": "code",
   "execution_count": 8,
   "id": "39f1ec14",
   "metadata": {},
   "outputs": [],
   "source": [
    "model = LinearRegression()\n",
    "model.fit(X_train, y_train)\n",
    "y_pred = model.predict(X_test)"
   ]
  },
  {
   "cell_type": "markdown",
   "id": "f3f660fb",
   "metadata": {},
   "source": [
    "### Evaluation Metrics\n"
   ]
  },
  {
   "cell_type": "code",
   "execution_count": 9,
   "id": "9edcf180",
   "metadata": {},
   "outputs": [
    {
     "name": "stdout",
     "output_type": "stream",
     "text": [
      "Mean Absolute Error (MAE): 1.0340297596001136\n",
      "Mean Squared Error (MSE): 2.102061830288841\n",
      "Root Mean Squared Error (RMSE): 1.4498488991232297\n",
      "R-squared (R²): -0.0001742502965993431\n"
     ]
    }
   ],
   "source": [
    "mse = mean_squared_error(y_test, y_pred)\n",
    "rmse = np.sqrt(mse)  \n",
    "mae = mean_absolute_error(y_test, y_pred)\n",
    "r2 = r2_score(y_test, y_pred)\n",
    "print(f\"Mean Absolute Error (MAE): {mae}\")\n",
    "print(f\"Mean Squared Error (MSE): {mse}\")\n",
    "print(f\"Root Mean Squared Error (RMSE): {rmse}\")\n",
    "print(f\"R-squared (R²): {r2}\")"
   ]
  },
  {
   "cell_type": "markdown",
   "id": "741c3587",
   "metadata": {},
   "source": [
    "### Observations\n",
    "\n",
    "- MAE (1.034): The predicted depth is off by an average of 1.03 units\n",
    "- MSE (2.102) & RMSE (1.45): The errors are quite large, indicating poor accuracy.\n",
    "- R² (-0.00017): A negative R² indicates the model performs worse than a simple average prediction. This suggests no linear relationship between price and depth.\n",
    "- Conclusion: The model is not useful for predicting depth from price, as price does not explain depth variance."
   ]
  },
  {
   "cell_type": "markdown",
   "id": "b5182585",
   "metadata": {},
   "source": [
    "### Visualization"
   ]
  },
  {
   "cell_type": "code",
   "execution_count": 10,
   "id": "0e6247a0",
   "metadata": {},
   "outputs": [
    {
     "data": {
      "image/png": "[encoded data removed]",
      "text/plain": [
       "<Figure size 432x288 with 1 Axes>"
      ]
     },
     "metadata": {
      "needs_background": "light"
     },
     "output_type": "display_data"
    }
   ],
   "source": [
    "plt.scatter(X, y, color='blue', alpha=0.5, label='Actual Data')\n",
    "plt.plot(X_test, model.predict(X_test), color='red', label='Regression Line')\n",
    "plt.xlabel('Price')\n",
    "plt.ylabel('Depth')\n",
    "plt.legend()\n",
    "plt.show()"
   ]
  },
  {
   "cell_type": "markdown",
   "id": "863b116f",
   "metadata": {},
   "source": [
    "## Relationship between Price and Table"
   ]
  },
  {
   "cell_type": "markdown",
   "id": "d977fbae",
   "metadata": {},
   "source": [
    "Predicting the table of a diamond based on its price."
   ]
  },
  {
   "cell_type": "markdown",
   "id": "5748eaaa",
   "metadata": {},
   "source": [
    "### Train-Test Split\n"
   ]
  },
  {
   "cell_type": "code",
   "execution_count": 11,
   "id": "bbb4fc9d",
   "metadata": {},
   "outputs": [],
   "source": [
    "X = df[['price']]\n",
    "y = df['table']\n",
    "X_train, X_test, y_train, y_test = train_test_split(X, y, test_size=0.2, random_state=42)"
   ]
  },
  {
   "cell_type": "markdown",
   "id": "31f6ea72",
   "metadata": {},
   "source": [
    "### Model Training and Prediction\n"
   ]
  },
  {
   "cell_type": "code",
   "execution_count": 12,
   "id": "d60829f7",
   "metadata": {},
   "outputs": [],
   "source": [
    "model = LinearRegression()\n",
    "model.fit(X_train, y_train)\n",
    "y_pred = model.predict(X_test)"
   ]
  },
  {
   "cell_type": "markdown",
   "id": "1a86255a",
   "metadata": {},
   "source": [
    "### Model Training and Prediction\n"
   ]
  },
  {
   "cell_type": "code",
   "execution_count": 13,
   "id": "d12ae6fb",
   "metadata": {},
   "outputs": [
    {
     "name": "stdout",
     "output_type": "stream",
     "text": [
      "Mean Absolute Error (MAE): 1.746411630809307\n",
      "Mean Squared Error (MSE): 4.983297986310466\n",
      "Root Mean Squared Error (RMSE): 2.232330169645715\n",
      "R-squared (R²): 0.020013872172731872\n"
     ]
    }
   ],
   "source": [
    "mse = mean_squared_error(y_test, y_pred)\n",
    "rmse = np.sqrt(mse)  \n",
    "mae = mean_absolute_error(y_test, y_pred)\n",
    "r2 = r2_score(y_test, y_pred)\n",
    "print(f\"Mean Absolute Error (MAE): {mae}\")\n",
    "print(f\"Mean Squared Error (MSE): {mse}\")\n",
    "print(f\"Root Mean Squared Error (RMSE): {rmse}\")\n",
    "print(f\"R-squared (R²): {r2}\")"
   ]
  },
  {
   "cell_type": "markdown",
   "id": "86ccc5e4",
   "metadata": {},
   "source": [
    "### Observations\n",
    "\n",
    "- MAE (1.746): The predicted table is off by an average of 1.75 units\n",
    "- MSE (4.983) & RMSE (2.23): These indicate substantial errors, highlighting poor prediction accuracy.\n",
    "- R² (0.020): Only 2% of the variance in the table is explained by price, which is almost negligible.\n",
    "- Conclusion: Price is not a strong predictor of the table. The model performs poorly."
   ]
  },
  {
   "cell_type": "markdown",
   "id": "9823263d",
   "metadata": {},
   "source": [
    "### Visualization\n"
   ]
  },
  {
   "cell_type": "code",
   "execution_count": 14,
   "id": "9c6f0df7",
   "metadata": {},
   "outputs": [
    {
     "data": {
      "image/png": "[encoded data removed]",
      "text/plain": [
       "<Figure size 432x288 with 1 Axes>"
      ]
     },
     "metadata": {
      "needs_background": "light"
     },
     "output_type": "display_data"
    }
   ],
   "source": [
    "plt.scatter(X, y, color='blue', alpha=0.5, label='Actual Data')\n",
    "plt.plot(X_test, model.predict(X_test), color='red', label='Regression Line')\n",
    "plt.xlabel('Price')\n",
    "plt.ylabel('Table')\n",
    "plt.legend()\n",
    "plt.show()"
   ]
  },
  {
   "cell_type": "markdown",
   "id": "8c0128cf",
   "metadata": {},
   "source": [
    "## Relationship between Price and X"
   ]
  },
  {
   "cell_type": "markdown",
   "id": "c0c2f7a8",
   "metadata": {},
   "source": [
    "Predicting the x of a diamond based on its price."
   ]
  },
  {
   "cell_type": "markdown",
   "id": "ebfbcf77",
   "metadata": {},
   "source": [
    "### Train-Test Split\n"
   ]
  },
  {
   "cell_type": "code",
   "execution_count": 15,
   "id": "804c4de2",
   "metadata": {},
   "outputs": [],
   "source": [
    "X = df[['price']]\n",
    "y = df['x']\n",
    "X_train, X_test, y_train, y_test = train_test_split(X, y, test_size=0.2, random_state=42)"
   ]
  },
  {
   "cell_type": "markdown",
   "id": "fb14db8f",
   "metadata": {},
   "source": [
    "### Model Training and Prediction"
   ]
  },
  {
   "cell_type": "code",
   "execution_count": 16,
   "id": "d3bed1f1",
   "metadata": {},
   "outputs": [],
   "source": [
    "model = LinearRegression()\n",
    "model.fit(X_train, y_train)\n",
    "y_pred = model.predict(X_test)"
   ]
  },
  {
   "cell_type": "markdown",
   "id": "1a60158b",
   "metadata": {},
   "source": [
    "### Evaluation Metrics\n"
   ]
  },
  {
   "cell_type": "code",
   "execution_count": 17,
   "id": "7c1cc483",
   "metadata": {},
   "outputs": [
    {
     "name": "stdout",
     "output_type": "stream",
     "text": [
      "Mean Absolute Error (MAE): 0.4336308266107373\n",
      "Mean Squared Error (MSE): 0.27540212246552226\n",
      "Root Mean Squared Error (RMSE): 0.5247876927534812\n",
      "R-squared (R²): 0.783545824005679\n"
     ]
    }
   ],
   "source": [
    "mse = mean_squared_error(y_test, y_pred)\n",
    "rmse = np.sqrt(mse)  \n",
    "mae = mean_absolute_error(y_test, y_pred)\n",
    "r2 = r2_score(y_test, y_pred)\n",
    "print(f\"Mean Absolute Error (MAE): {mae}\")\n",
    "print(f\"Mean Squared Error (MSE): {mse}\")\n",
    "print(f\"Root Mean Squared Error (RMSE): {rmse}\")\n",
    "print(f\"R-squared (R²): {r2}\")"
   ]
  },
  {
   "cell_type": "markdown",
   "id": "028bc643",
   "metadata": {},
   "source": [
    "### Observations \n",
    "\n",
    "- MAE (0.434): The predicted x dimension is off by about 0.434 units.\n",
    "- MSE (0.275) & RMSE (0.525): The errors are moderate, showing decent accuracy.\n",
    "- R² (0.784): The model explains 78.4% of the variance in the x dimension, indicating a strong linear relationship with price.\n",
    "- Conclusion: This is a good model for predicting the x dimension based on price."
   ]
  },
  {
   "cell_type": "markdown",
   "id": "724718a9",
   "metadata": {},
   "source": [
    "### Visualization\n"
   ]
  },
  {
   "cell_type": "code",
   "execution_count": 18,
   "id": "ef952e1a",
   "metadata": {},
   "outputs": [
    {
     "data": {
      "image/png": "[encoded data removed]",
      "text/plain": [
       "<Figure size 432x288 with 1 Axes>"
      ]
     },
     "metadata": {
      "needs_background": "light"
     },
     "output_type": "display_data"
    }
   ],
   "source": [
    "plt.scatter(X, y, color='blue', alpha=0.5, label='Actual Data')\n",
    "plt.plot(X_test, model.predict(X_test), color='red', label='Regression Line')\n",
    "plt.xlabel('Price')\n",
    "plt.ylabel('x')\n",
    "plt.legend()\n",
    "plt.show()"
   ]
  },
  {
   "cell_type": "markdown",
   "id": "9dacdf4f",
   "metadata": {},
   "source": [
    "## Realtionship between Price and y"
   ]
  },
  {
   "cell_type": "markdown",
   "id": "7ecad1c8",
   "metadata": {},
   "source": [
    "Predicting the y of a diamond based on its price."
   ]
  },
  {
   "cell_type": "code",
   "execution_count": 19,
   "id": "4b30123b",
   "metadata": {},
   "outputs": [],
   "source": [
    "X = df[['price']]\n",
    "y = df['y']\n",
    "X_train, X_test, y_train, y_test = train_test_split(X, y, test_size=0.2, random_state=42)"
   ]
  },
  {
   "cell_type": "code",
   "execution_count": 20,
   "id": "ed66daa3",
   "metadata": {},
   "outputs": [],
   "source": [
    "model = LinearRegression()\n",
    "model.fit(X_train, y_train)\n",
    "y_pred = model.predict(X_test)"
   ]
  },
  {
   "cell_type": "code",
   "execution_count": 21,
   "id": "b655ddf4",
   "metadata": {},
   "outputs": [
    {
     "name": "stdout",
     "output_type": "stream",
     "text": [
      "Mean Absolute Error (MAE): 0.4280937661918146\n",
      "Mean Squared Error (MSE): 0.26689315323334845\n",
      "Root Mean Squared Error (RMSE): 0.516617027626218\n",
      "R-squared (R²): 0.7873808399568369\n"
     ]
    }
   ],
   "source": [
    "mse = mean_squared_error(y_test, y_pred)\n",
    "rmse = np.sqrt(mse)  \n",
    "mae = mean_absolute_error(y_test, y_pred)\n",
    "r2 = r2_score(y_test, y_pred)\n",
    "print(f\"Mean Absolute Error (MAE): {mae}\")\n",
    "print(f\"Mean Squared Error (MSE): {mse}\")\n",
    "print(f\"Root Mean Squared Error (RMSE): {rmse}\")\n",
    "print(f\"R-squared (R²): {r2}\")"
   ]
  },
  {
   "cell_type": "markdown",
   "id": "8d4a2107",
   "metadata": {},
   "source": [
    "### Observation \n",
    "\n",
    "- MAE (0.428): The predicted y dimension is off by 0.428 units, similar to the x prediction.\n",
    "- MSE (0.267) & RMSE (0.517): These metrics indicate moderate errors, similar to x.\n",
    "- R² (0.787): The model explains 78.7% of the variance in the y dimension, also indicating a strong linear relationship with price.\n",
    "- Conclusion: Like x, this is a good model for predicting the y dimension based on price."
   ]
  },
  {
   "cell_type": "code",
   "execution_count": 22,
   "id": "ede56d7a",
   "metadata": {},
   "outputs": [
    {
     "data": {
      "image/png": "[encoded data removed]",
      "text/plain": [
       "<Figure size 432x288 with 1 Axes>"
      ]
     },
     "metadata": {
      "needs_background": "light"
     },
     "output_type": "display_data"
    }
   ],
   "source": [
    "plt.scatter(X, y, color='blue', alpha=0.5, label='Actual Data')\n",
    "plt.plot(X_test, model.predict(X_test), color='red', label='Regression Line')\n",
    "plt.xlabel('Price')\n",
    "plt.ylabel('y')\n",
    "plt.legend()\n",
    "plt.show()"
   ]
  },
  {
   "cell_type": "markdown",
   "id": "b42cfbfa",
   "metadata": {},
   "source": [
    "## Realtionship between Price and z"
   ]
  },
  {
   "cell_type": "markdown",
   "id": "196f40b9",
   "metadata": {},
   "source": [
    "Predicting the z of a diamond based on its price."
   ]
  },
  {
   "cell_type": "markdown",
   "id": "08e3818b",
   "metadata": {},
   "source": [
    "### Train-Test Split"
   ]
  },
  {
   "cell_type": "code",
   "execution_count": 23,
   "id": "075c18c8",
   "metadata": {},
   "outputs": [],
   "source": [
    "X = df[['price']]\n",
    "y = df['z']\n",
    "X_train, X_test, y_train, y_test = train_test_split(X, y, test_size=0.2, random_state=42)"
   ]
  },
  {
   "cell_type": "markdown",
   "id": "a9cb8cd3",
   "metadata": {},
   "source": [
    "### Model Training and Prediction\n"
   ]
  },
  {
   "cell_type": "code",
   "execution_count": 24,
   "id": "baa100e5",
   "metadata": {},
   "outputs": [],
   "source": [
    "model = LinearRegression()\n",
    "model.fit(X_train, y_train)\n",
    "y_pred = model.predict(X_test)"
   ]
  },
  {
   "cell_type": "markdown",
   "id": "e56ede32",
   "metadata": {},
   "source": [
    "### Evaluation Metrics"
   ]
  },
  {
   "cell_type": "code",
   "execution_count": 25,
   "id": "48465356",
   "metadata": {},
   "outputs": [
    {
     "name": "stdout",
     "output_type": "stream",
     "text": [
      "Mean Absolute Error (MAE): 0.272468812825565\n",
      "Mean Squared Error (MSE): 0.11031956045288964\n",
      "Root Mean Squared Error (RMSE): 0.33214388516558546\n",
      "R-squared (R²): 0.7723685636079625\n"
     ]
    }
   ],
   "source": [
    "mse = mean_squared_error(y_test, y_pred)\n",
    "rmse = np.sqrt(mse)  \n",
    "mae = mean_absolute_error(y_test, y_pred)\n",
    "r2 = r2_score(y_test, y_pred)\n",
    "print(f\"Mean Absolute Error (MAE): {mae}\")\n",
    "print(f\"Mean Squared Error (MSE): {mse}\")\n",
    "print(f\"Root Mean Squared Error (RMSE): {rmse}\")\n",
    "print(f\"R-squared (R²): {r2}\")"
   ]
  },
  {
   "cell_type": "markdown",
   "id": "780bad95",
   "metadata": {},
   "source": [
    "### Observations \n",
    "\n",
    "- MAE (0.272): The predicted z dimension is off by 0.272 units, which is smaller compared to x and y.\n",
    "- MSE (0.110) & RMSE (0.332): The errors are lower than for x and y, suggesting better accuracy.\n",
    "- R² (0.772): The model explains 77.2% of the variance in the z dimension, slightly lower than x and y but still strong.\n",
    "- Conclusion: This is a good model for predicting the z dimension based on price."
   ]
  },
  {
   "cell_type": "markdown",
   "id": "eeb35640",
   "metadata": {},
   "source": [
    "### Visualization\n"
   ]
  },
  {
   "cell_type": "code",
   "execution_count": 26,
   "id": "606dd310",
   "metadata": {},
   "outputs": [
    {
     "data": {
      "image/png": "[encoded data removed]",
      "text/plain": [
       "<Figure size 432x288 with 1 Axes>"
      ]
     },
     "metadata": {
      "needs_background": "light"
     },
     "output_type": "display_data"
    }
   ],
   "source": [
    "plt.scatter(X, y, color='blue', alpha=0.5, label='Actual Data')\n",
    "plt.plot(X_test, model.predict(X_test), color='red', label='Regression Line')\n",
    "plt.xlabel('Price')\n",
    "plt.ylabel('z')\n",
    "plt.legend()\n",
    "plt.show()"
   ]
  },
  {
   "cell_type": "markdown",
   "id": "5d635474",
   "metadata": {},
   "source": [
    "## Conclusion"
   ]
  },
  {
   "cell_type": "markdown",
   "id": "605bbe37",
   "metadata": {},
   "source": [
    "Strong Predictions:\n",
    "- Carat weight (R² = 0.849, RMSE = 0.185): Best performance. Price strongly predicts carat weight.\n",
    "- Dimensions x (R² = 0.784), y (R² = 0.787), and z (R² = 0.772): Price is a strong predictor of these dimensions, with reasonable errors.\n",
    "\n",
    "Weak Predictions:\n",
    "- Depth (R² = -0.0002): No linear relationship between price and depth; the model fails entirely.\n",
    "- Table (R² = 0.020): Price explains almost no variance in table; the model is not useful.\n",
    "\n",
    "Practical Implication:\n",
    "- Price is a strong predictor for carat weight and the dimensions (x, y, z), likely because they are closely related to size and weight.\n",
    "- Depth and table do not correlate well with price, so other features would be needed for accurate predictions."
   ]
  }
 ],
 "metadata": {
  "kernelspec": {
   "display_name": "Python 3 (ipykernel)",
   "language": "python",
   "name": "python3"
  },
  "language_info": {
   "codemirror_mode": {
    "name": "ipython",
    "version": 3
   },
   "file_extension": ".py",
   "mimetype": "text/x-python",
   "name": "python",
   "nbconvert_exporter": "python",
   "pygments_lexer": "ipython3",
   "version": "3.9.7"
  }
 },
 "nbformat": 4,
 "nbformat_minor": 5
}
